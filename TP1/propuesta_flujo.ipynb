{
  "nbformat": 4,
  "nbformat_minor": 0,
  "metadata": {
    "colab": {
      "provenance": [],
      "authorship_tag": "ABX9TyOoqJDQszlAhwRDTIB5hZj3",
      "include_colab_link": true
    },
    "kernelspec": {
      "name": "python3",
      "display_name": "Python 3"
    },
    "language_info": {
      "name": "python"
    }
  },
  "cells": [
    {
      "cell_type": "markdown",
      "metadata": {
        "id": "view-in-github",
        "colab_type": "text"
      },
      "source": [
        "<a href=\"https://colab.research.google.com/github/Anthonychan2001/chatbot2.0/blob/main/TP1/propuesta_flujo.ipynb\" target=\"_parent\"><img src=\"https://colab.research.google.com/assets/colab-badge.svg\" alt=\"Open In Colab\"/></a>"
      ]
    },
    {
      "cell_type": "code",
      "source": [],
      "metadata": {
        "id": "eTnS175EYjgR"
      },
      "execution_count": null,
      "outputs": []
    },
    {
      "cell_type": "code",
      "execution_count": null,
      "metadata": {
        "id": "hBGt28dBYUSN"
      },
      "outputs": [],
      "source": [
        "import os\n",
        "\n",
        "# Archivo para almacenar la información de los usuarios registrados\n",
        "DATABASE_FILE = \"registro_servicio.txt\"\n",
        "\n",
        "# Función para guardar datos en un archivo\n",
        "def guardar_datos(datos):\n",
        "    with open(DATABASE_FILE, \"a\") as f:\n",
        "        f.write(f\"{datos}\\n\")\n",
        "\n",
        "# Preguntas secuenciales para registrar datos\n",
        "def registrar_cliente():\n",
        "    print(\"¡Bienvenido al servicio de registro!\")\n",
        "    cliente = {}\n",
        "\n",
        "    cliente['nombre'] = input(\"Por favor, ingresa tu nombre completo: \")\n",
        "    cliente['ciudad'] = input(\"Indica tu ciudad: \")\n",
        "    cliente['codigo_postal'] = input(\"Proporciona tu código postal: \")\n",
        "    cliente['colonia'] = input(\"Proporciona el nombre de tu colonia: \")\n",
        "    cliente['calle'] = input(\"Indica el nombre de tu calle: \")\n",
        "    cliente['numero_exterior'] = input(\"Proporciona el número exterior de tu domicilio: \")\n",
        "    cliente['numero_interior'] = input(\"¿Tienes número interior? (Si/No): \")\n",
        "    cliente['telefono'] = input(\"Proporciona tu número de teléfono: \")\n",
        "    cliente['correo'] = input(\"Proporciona tu correo electrónico: \")\n",
        "\n",
        "    # Guardar datos en un archivo\n",
        "    guardar_datos(cliente)\n",
        "    print(\"\\n¡Gracias! Tu información ha sido registrada correctamente.\\n\")\n",
        "\n",
        "# Sugerencias basadas en número de cliente\n",
        "def sugerencias_por_numero_cliente():\n",
        "    numero_cliente = input(\"Por favor, ingresa tu número de cliente: \")\n",
        "\n",
        "    if numero_cliente == \"123456789\":\n",
        "        print(\"Te recomendamos contratar nuestro servicio de Internet para disfrutar de una mejor conexión.\")\n",
        "    elif numero_cliente == \"987456321\":\n",
        "        print(\"Te sugerimos adquirir nuestro servicio de Televisión para disfrutar del mejor entretenimiento.\")\n",
        "    elif numero_cliente == \"134679\":\n",
        "        print(\"Te recomendamos aumentar la velocidad de tu Internet para una experiencia óptima.\")\n",
        "    else:\n",
        "        print(\"Lo siento, no tenemos sugerencias específicas para este número de cliente.\")\n",
        "\n",
        "# Respuestas básicas con PLN\n",
        "def preguntas_frecuentes():\n",
        "    print(\"\\n¡Estoy aquí para responder tus dudas! Escribe tu pregunta:\")\n",
        "    pregunta = input(\"> \").lower()\n",
        "\n",
        "    if \"costo\" in pregunta:\n",
        "        print(\"El costo del servicio depende del paquete elegido. Contamos con opciones desde $500 MXN al mes.\")\n",
        "    elif \"instalación\" in pregunta:\n",
        "        print(\"El tiempo de instalación es de 3 a 5 días hábiles después de contratar el servicio.\")\n",
        "    elif \"promociones\" in pregunta:\n",
        "        print(\"Actualmente ofrecemos instalación gratuita en dos televisores al contratar Televisión o Televisión + Internet.\")\n",
        "    else:\n",
        "        print(\"Lo siento, no tengo una respuesta para esa pregunta. Un asesor podrá ayudarte con más detalles.\")\n",
        "\n",
        "# Menú principal\n",
        "def menu_principal():\n",
        "    while True:\n",
        "        print(\"\\n--- Menú Principal ---\")\n",
        "        print(\"1. Registrar cliente para contratar un servicio\")\n",
        "        print(\"2. Ver sugerencias basadas en número de cliente\")\n",
        "        print(\"3. Preguntar dudas frecuentes\")\n",
        "        print(\"4. Salir\")\n",
        "        opcion = input(\"Selecciona una opción: \")\n",
        "\n",
        "        if opcion == \"1\":\n",
        "            registrar_cliente()\n",
        "        elif opcion == \"2\":\n",
        "            sugerencias_por_numero_cliente()\n",
        "        elif opcion == \"3\":\n",
        "            preguntas_frecuentes()\n",
        "        elif opcion == \"4\":\n",
        "            print(\"¡Gracias por usar el servicio! Hasta pronto.\")\n",
        "            break\n",
        "        else:\n",
        "            print(\"Opción no válida. Por favor, intenta de nuevo.\")\n",
        "\n",
        "# Ejecutar el chatbot\n",
        "if __name__ == \"__main__\":\n",
        "    if not os.path.exists(DATABASE_FILE):\n",
        "        with open(DATABASE_FILE, \"w\") as f:\n",
        "            f.write(\"Registro de clientes:\\n\")\n",
        "    menu_principal()\n"
      ]
    },
    {
      "cell_type": "code",
      "source": [],
      "metadata": {
        "id": "hegxvbQ3YiMq"
      },
      "execution_count": null,
      "outputs": []
    }
  ]
}